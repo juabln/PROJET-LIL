{
 "cells": [
  {
   "cell_type": "markdown",
   "id": "bae94187",
   "metadata": {},
   "source": [
    "# Prévision du prix de l’électricité – Notebook de l’expert\n",
    "\n",
    "Ce notebook présente une solution complète pour le ChallengeData d’Elmy portant sur la prédiction du prix de l’électricité. Nous détaillons chaque étape du processus : chargement des données, analyse exploratoire, préparation du jeu de données, entraînement d’un modèle de classification (XGBoost) et génération des prédictions. Le code est commenté en français et modulaire, prêt à l’emploi dans un Jupyter Notebook classique. Les bibliothèques utilisées incluent pandas, numpy, seaborn, matplotlib, xgboost, scikit-learn et openpyxl.\n",
    "\n",
    "## 1. Chargement des données\n",
    "\n",
    "On commence par importer les bibliothèques nécessaires et charger les fichiers Excel fournis. Ici, openpyxl est spécifié comme moteur pour read_excel, afin d’assurer la compatibilité avec les fichiers .xlsx. Nous vérifions ensuite la taille des données chargées (nombre de lignes et colonnes) pour chaque jeu de données (X_train, Y_train, X_test, Y_random).\n"
   ]
  },
  {
   "cell_type": "code",
   "execution_count": 48,
   "id": "cb2815e3",
   "metadata": {},
   "outputs": [
    {
     "name": "stdout",
     "output_type": "stream",
     "text": [
      "X_train shape: (10605, 10)\n",
      "Y_train shape: (10605, 2)\n",
      "X_test shape: (4942, 10)\n",
      "Y_random shape: (4942, 2)\n"
     ]
    }
   ],
   "source": [
    "# Import des bibliothèques principales\n",
    "\n",
    "import pandas as pd\n",
    "import numpy as np\n",
    "import seaborn as sns\n",
    "import matplotlib.pyplot as plt\n",
    "import xgboost as xgb\n",
    "from sklearn.model_selection import train_test_split\n",
    "from sklearn.metrics import confusion_matrix\n",
    "\n",
    "\n",
    "# Chargement des fichiers Excel (X_train, Y_train, X_test, Y_random)\n",
    "\n",
    "X_train = pd.read_csv('data/X_train_Wwou3IE.csv')\n",
    "Y_train = pd.read_csv('data/y_train_jJtXgMX.csv')\n",
    "X_test = pd.read_csv('data/X_test_GgyECq8.csv')\n",
    "Y_random = pd.read_csv('data/y_random_pt8afo8.csv')\n",
    "\n",
    "# Aperçu des dimensions des jeux de données\n",
    "print(\"X_train shape:\", X_train.shape)\n",
    "print(\"Y_train shape:\", Y_train.shape)\n",
    "print(\"X_test shape:\", X_test.shape)\n",
    "print(\"Y_random shape:\", Y_random.shape)\n"
   ]
  },
  {
   "cell_type": "markdown",
   "id": "fff66ba5",
   "metadata": {},
   "source": [
    "## 2. Analyse exploratoire des données\n",
    "Nous explorons les données pour mieux les comprendre. On examine les types de variables, la présence de valeurs manquantes, et des statistiques descriptives. On regarde également les corrélations entre variables numériques. Enfin, on étudie la distribution de la variable cible d’origine spot_id_delta dans Y_train.\n",
    "\n",
    "### Aperçu des types et de l'échantillon de données"
   ]
  },
  {
   "cell_type": "code",
   "execution_count": 49,
   "id": "aa52f06c",
   "metadata": {},
   "outputs": [
    {
     "name": "stdout",
     "output_type": "stream",
     "text": [
      "Types de variables X_train :\n",
      " DELIVERY_START                    object\n",
      "load_forecast                    float64\n",
      "coal_power_available             float64\n",
      "gas_power_available              float64\n",
      "nucelear_power_available         float64\n",
      "wind_power_forecasts_average     float64\n",
      "solar_power_forecasts_average    float64\n",
      "wind_power_forecasts_std         float64\n",
      "solar_power_forecasts_std        float64\n",
      "predicted_spot_price             float64\n",
      "dtype: object\n",
      "\n",
      "Aperçu de X_train :\n"
     ]
    },
    {
     "data": {
      "text/html": [
       "<div>\n",
       "<style scoped>\n",
       "    .dataframe tbody tr th:only-of-type {\n",
       "        vertical-align: middle;\n",
       "    }\n",
       "\n",
       "    .dataframe tbody tr th {\n",
       "        vertical-align: top;\n",
       "    }\n",
       "\n",
       "    .dataframe thead th {\n",
       "        text-align: right;\n",
       "    }\n",
       "</style>\n",
       "<table border=\"1\" class=\"dataframe\">\n",
       "  <thead>\n",
       "    <tr style=\"text-align: right;\">\n",
       "      <th></th>\n",
       "      <th>DELIVERY_START</th>\n",
       "      <th>load_forecast</th>\n",
       "      <th>coal_power_available</th>\n",
       "      <th>gas_power_available</th>\n",
       "      <th>nucelear_power_available</th>\n",
       "      <th>wind_power_forecasts_average</th>\n",
       "      <th>solar_power_forecasts_average</th>\n",
       "      <th>wind_power_forecasts_std</th>\n",
       "      <th>solar_power_forecasts_std</th>\n",
       "      <th>predicted_spot_price</th>\n",
       "    </tr>\n",
       "  </thead>\n",
       "  <tbody>\n",
       "    <tr>\n",
       "      <th>0</th>\n",
       "      <td>2022-01-01 02:00:00+01:00</td>\n",
       "      <td>49439.0</td>\n",
       "      <td>3386.0</td>\n",
       "      <td>11487.0</td>\n",
       "      <td>44118.0</td>\n",
       "      <td>3035.0</td>\n",
       "      <td>0.0</td>\n",
       "      <td>79.248348</td>\n",
       "      <td>0.0</td>\n",
       "      <td>NaN</td>\n",
       "    </tr>\n",
       "    <tr>\n",
       "      <th>1</th>\n",
       "      <td>2022-01-01 03:00:00+01:00</td>\n",
       "      <td>46511.0</td>\n",
       "      <td>3386.0</td>\n",
       "      <td>11487.0</td>\n",
       "      <td>44118.0</td>\n",
       "      <td>3143.0</td>\n",
       "      <td>0.0</td>\n",
       "      <td>61.776532</td>\n",
       "      <td>0.0</td>\n",
       "      <td>NaN</td>\n",
       "    </tr>\n",
       "    <tr>\n",
       "      <th>2</th>\n",
       "      <td>2022-01-01 04:00:00+01:00</td>\n",
       "      <td>45158.0</td>\n",
       "      <td>3386.0</td>\n",
       "      <td>11487.0</td>\n",
       "      <td>44118.0</td>\n",
       "      <td>3288.0</td>\n",
       "      <td>0.0</td>\n",
       "      <td>44.291112</td>\n",
       "      <td>0.0</td>\n",
       "      <td>NaN</td>\n",
       "    </tr>\n",
       "    <tr>\n",
       "      <th>3</th>\n",
       "      <td>2022-01-01 05:00:00+01:00</td>\n",
       "      <td>44779.0</td>\n",
       "      <td>3386.0</td>\n",
       "      <td>11487.0</td>\n",
       "      <td>44118.0</td>\n",
       "      <td>3447.0</td>\n",
       "      <td>0.0</td>\n",
       "      <td>36.127588</td>\n",
       "      <td>0.0</td>\n",
       "      <td>NaN</td>\n",
       "    </tr>\n",
       "    <tr>\n",
       "      <th>4</th>\n",
       "      <td>2022-01-01 06:00:00+01:00</td>\n",
       "      <td>45284.0</td>\n",
       "      <td>3386.0</td>\n",
       "      <td>11487.0</td>\n",
       "      <td>44118.0</td>\n",
       "      <td>3679.0</td>\n",
       "      <td>0.0</td>\n",
       "      <td>30.983023</td>\n",
       "      <td>0.0</td>\n",
       "      <td>NaN</td>\n",
       "    </tr>\n",
       "  </tbody>\n",
       "</table>\n",
       "</div>"
      ],
      "text/plain": [
       "              DELIVERY_START  load_forecast  coal_power_available  \\\n",
       "0  2022-01-01 02:00:00+01:00        49439.0                3386.0   \n",
       "1  2022-01-01 03:00:00+01:00        46511.0                3386.0   \n",
       "2  2022-01-01 04:00:00+01:00        45158.0                3386.0   \n",
       "3  2022-01-01 05:00:00+01:00        44779.0                3386.0   \n",
       "4  2022-01-01 06:00:00+01:00        45284.0                3386.0   \n",
       "\n",
       "   gas_power_available  nucelear_power_available  \\\n",
       "0              11487.0                   44118.0   \n",
       "1              11487.0                   44118.0   \n",
       "2              11487.0                   44118.0   \n",
       "3              11487.0                   44118.0   \n",
       "4              11487.0                   44118.0   \n",
       "\n",
       "   wind_power_forecasts_average  solar_power_forecasts_average  \\\n",
       "0                        3035.0                            0.0   \n",
       "1                        3143.0                            0.0   \n",
       "2                        3288.0                            0.0   \n",
       "3                        3447.0                            0.0   \n",
       "4                        3679.0                            0.0   \n",
       "\n",
       "   wind_power_forecasts_std  solar_power_forecasts_std  predicted_spot_price  \n",
       "0                 79.248348                        0.0                   NaN  \n",
       "1                 61.776532                        0.0                   NaN  \n",
       "2                 44.291112                        0.0                   NaN  \n",
       "3                 36.127588                        0.0                   NaN  \n",
       "4                 30.983023                        0.0                   NaN  "
      ]
     },
     "metadata": {},
     "output_type": "display_data"
    },
    {
     "name": "stdout",
     "output_type": "stream",
     "text": [
      "\n",
      "Types de variables Y_train :\n",
      " DELIVERY_START     object\n",
      "spot_id_delta     float64\n",
      "dtype: object\n",
      "\n",
      "Aperçu de Y_train :\n"
     ]
    },
    {
     "data": {
      "text/html": [
       "<div>\n",
       "<style scoped>\n",
       "    .dataframe tbody tr th:only-of-type {\n",
       "        vertical-align: middle;\n",
       "    }\n",
       "\n",
       "    .dataframe tbody tr th {\n",
       "        vertical-align: top;\n",
       "    }\n",
       "\n",
       "    .dataframe thead th {\n",
       "        text-align: right;\n",
       "    }\n",
       "</style>\n",
       "<table border=\"1\" class=\"dataframe\">\n",
       "  <thead>\n",
       "    <tr style=\"text-align: right;\">\n",
       "      <th></th>\n",
       "      <th>DELIVERY_START</th>\n",
       "      <th>spot_id_delta</th>\n",
       "    </tr>\n",
       "  </thead>\n",
       "  <tbody>\n",
       "    <tr>\n",
       "      <th>0</th>\n",
       "      <td>2022-01-01 02:00:00+01:00</td>\n",
       "      <td>-36.874770</td>\n",
       "    </tr>\n",
       "    <tr>\n",
       "      <th>1</th>\n",
       "      <td>2022-01-01 03:00:00+01:00</td>\n",
       "      <td>-12.643588</td>\n",
       "    </tr>\n",
       "    <tr>\n",
       "      <th>2</th>\n",
       "      <td>2022-01-01 04:00:00+01:00</td>\n",
       "      <td>-1.950193</td>\n",
       "    </tr>\n",
       "    <tr>\n",
       "      <th>3</th>\n",
       "      <td>2022-01-01 05:00:00+01:00</td>\n",
       "      <td>1.938272</td>\n",
       "    </tr>\n",
       "    <tr>\n",
       "      <th>4</th>\n",
       "      <td>2022-01-01 06:00:00+01:00</td>\n",
       "      <td>0.199907</td>\n",
       "    </tr>\n",
       "  </tbody>\n",
       "</table>\n",
       "</div>"
      ],
      "text/plain": [
       "              DELIVERY_START  spot_id_delta\n",
       "0  2022-01-01 02:00:00+01:00     -36.874770\n",
       "1  2022-01-01 03:00:00+01:00     -12.643588\n",
       "2  2022-01-01 04:00:00+01:00      -1.950193\n",
       "3  2022-01-01 05:00:00+01:00       1.938272\n",
       "4  2022-01-01 06:00:00+01:00       0.199907"
      ]
     },
     "metadata": {},
     "output_type": "display_data"
    }
   ],
   "source": [
    "print(\"Types de variables X_train :\\n\", X_train.dtypes)\n",
    "print(\"\\nAperçu de X_train :\")\n",
    "display(X_train.head())\n",
    "\n",
    "print(\"\\nTypes de variables Y_train :\\n\", Y_train.dtypes)\n",
    "print(\"\\nAperçu de Y_train :\")\n",
    "display(Y_train.head())"
   ]
  },
  {
   "cell_type": "markdown",
   "id": "c9b4640d",
   "metadata": {},
   "source": [
    "### Recherche de valeurs manquantes dans X_train"
   ]
  },
  {
   "cell_type": "code",
   "execution_count": 50,
   "id": "88a04213",
   "metadata": {},
   "outputs": [
    {
     "name": "stdout",
     "output_type": "stream",
     "text": [
      "\n",
      "Valeurs manquantes par colonne dans X_train :\n",
      "load_forecast                    1287\n",
      "coal_power_available                1\n",
      "gas_power_available                 1\n",
      "nucelear_power_available            1\n",
      "wind_power_forecasts_average       24\n",
      "solar_power_forecasts_average      24\n",
      "wind_power_forecasts_std           24\n",
      "solar_power_forecasts_std          24\n",
      "predicted_spot_price             8759\n",
      "dtype: int64\n"
     ]
    }
   ],
   "source": [
    "missing_values = X_train.isnull().sum()\n",
    "print(\"\\nValeurs manquantes par colonne dans X_train :\")\n",
    "print(missing_values[missing_values > 0])"
   ]
  },
  {
   "cell_type": "markdown",
   "id": "aee2015a",
   "metadata": {},
   "source": [
    "### Statistiques descriptives sur X_train"
   ]
  },
  {
   "cell_type": "code",
   "execution_count": 51,
   "id": "53a51d62",
   "metadata": {},
   "outputs": [
    {
     "name": "stdout",
     "output_type": "stream",
     "text": [
      "\n",
      "Statistiques descriptives de X_train :\n"
     ]
    },
    {
     "data": {
      "text/html": [
       "<div>\n",
       "<style scoped>\n",
       "    .dataframe tbody tr th:only-of-type {\n",
       "        vertical-align: middle;\n",
       "    }\n",
       "\n",
       "    .dataframe tbody tr th {\n",
       "        vertical-align: top;\n",
       "    }\n",
       "\n",
       "    .dataframe thead th {\n",
       "        text-align: right;\n",
       "    }\n",
       "</style>\n",
       "<table border=\"1\" class=\"dataframe\">\n",
       "  <thead>\n",
       "    <tr style=\"text-align: right;\">\n",
       "      <th></th>\n",
       "      <th>load_forecast</th>\n",
       "      <th>coal_power_available</th>\n",
       "      <th>gas_power_available</th>\n",
       "      <th>nucelear_power_available</th>\n",
       "      <th>wind_power_forecasts_average</th>\n",
       "      <th>solar_power_forecasts_average</th>\n",
       "      <th>wind_power_forecasts_std</th>\n",
       "      <th>solar_power_forecasts_std</th>\n",
       "      <th>predicted_spot_price</th>\n",
       "    </tr>\n",
       "  </thead>\n",
       "  <tbody>\n",
       "    <tr>\n",
       "      <th>count</th>\n",
       "      <td>9318.000000</td>\n",
       "      <td>10604.000000</td>\n",
       "      <td>10604.000000</td>\n",
       "      <td>10604.000000</td>\n",
       "      <td>10581.000000</td>\n",
       "      <td>10581.000000</td>\n",
       "      <td>10581.000000</td>\n",
       "      <td>10581.000000</td>\n",
       "      <td>1846.000000</td>\n",
       "    </tr>\n",
       "    <tr>\n",
       "      <th>mean</th>\n",
       "      <td>53725.132968</td>\n",
       "      <td>2819.781592</td>\n",
       "      <td>11463.220671</td>\n",
       "      <td>35393.282252</td>\n",
       "      <td>4512.989415</td>\n",
       "      <td>1919.281353</td>\n",
       "      <td>125.399422</td>\n",
       "      <td>24.997384</td>\n",
       "      <td>140.256024</td>\n",
       "    </tr>\n",
       "    <tr>\n",
       "      <th>std</th>\n",
       "      <td>11274.194929</td>\n",
       "      <td>495.103588</td>\n",
       "      <td>483.799154</td>\n",
       "      <td>7619.820162</td>\n",
       "      <td>3349.419356</td>\n",
       "      <td>2706.963383</td>\n",
       "      <td>132.152875</td>\n",
       "      <td>43.083977</td>\n",
       "      <td>33.922669</td>\n",
       "    </tr>\n",
       "    <tr>\n",
       "      <th>min</th>\n",
       "      <td>30515.000000</td>\n",
       "      <td>1646.000000</td>\n",
       "      <td>9769.000000</td>\n",
       "      <td>22285.000000</td>\n",
       "      <td>592.000000</td>\n",
       "      <td>0.000000</td>\n",
       "      <td>1.830211</td>\n",
       "      <td>0.000000</td>\n",
       "      <td>42.420000</td>\n",
       "    </tr>\n",
       "    <tr>\n",
       "      <th>25%</th>\n",
       "      <td>45336.500000</td>\n",
       "      <td>2226.000000</td>\n",
       "      <td>11140.000000</td>\n",
       "      <td>29005.000000</td>\n",
       "      <td>2036.000000</td>\n",
       "      <td>0.000000</td>\n",
       "      <td>46.818974</td>\n",
       "      <td>0.000000</td>\n",
       "      <td>119.405000</td>\n",
       "    </tr>\n",
       "    <tr>\n",
       "      <th>50%</th>\n",
       "      <td>51846.000000</td>\n",
       "      <td>2806.000000</td>\n",
       "      <td>11487.000000</td>\n",
       "      <td>32470.000000</td>\n",
       "      <td>3319.000000</td>\n",
       "      <td>149.000000</td>\n",
       "      <td>86.700163</td>\n",
       "      <td>3.507229</td>\n",
       "      <td>140.040000</td>\n",
       "    </tr>\n",
       "    <tr>\n",
       "      <th>75%</th>\n",
       "      <td>62091.750000</td>\n",
       "      <td>3386.000000</td>\n",
       "      <td>11945.000000</td>\n",
       "      <td>43055.000000</td>\n",
       "      <td>5951.000000</td>\n",
       "      <td>3507.000000</td>\n",
       "      <td>155.325644</td>\n",
       "      <td>35.137019</td>\n",
       "      <td>160.765000</td>\n",
       "    </tr>\n",
       "    <tr>\n",
       "      <th>max</th>\n",
       "      <td>85145.000000</td>\n",
       "      <td>3391.000000</td>\n",
       "      <td>11963.000000</td>\n",
       "      <td>50122.000000</td>\n",
       "      <td>15167.000000</td>\n",
       "      <td>10127.000000</td>\n",
       "      <td>1871.571992</td>\n",
       "      <td>745.261316</td>\n",
       "      <td>254.190000</td>\n",
       "    </tr>\n",
       "  </tbody>\n",
       "</table>\n",
       "</div>"
      ],
      "text/plain": [
       "       load_forecast  coal_power_available  gas_power_available  \\\n",
       "count    9318.000000          10604.000000         10604.000000   \n",
       "mean    53725.132968           2819.781592         11463.220671   \n",
       "std     11274.194929            495.103588           483.799154   \n",
       "min     30515.000000           1646.000000          9769.000000   \n",
       "25%     45336.500000           2226.000000         11140.000000   \n",
       "50%     51846.000000           2806.000000         11487.000000   \n",
       "75%     62091.750000           3386.000000         11945.000000   \n",
       "max     85145.000000           3391.000000         11963.000000   \n",
       "\n",
       "       nucelear_power_available  wind_power_forecasts_average  \\\n",
       "count              10604.000000                  10581.000000   \n",
       "mean               35393.282252                   4512.989415   \n",
       "std                 7619.820162                   3349.419356   \n",
       "min                22285.000000                    592.000000   \n",
       "25%                29005.000000                   2036.000000   \n",
       "50%                32470.000000                   3319.000000   \n",
       "75%                43055.000000                   5951.000000   \n",
       "max                50122.000000                  15167.000000   \n",
       "\n",
       "       solar_power_forecasts_average  wind_power_forecasts_std  \\\n",
       "count                   10581.000000              10581.000000   \n",
       "mean                     1919.281353                125.399422   \n",
       "std                      2706.963383                132.152875   \n",
       "min                         0.000000                  1.830211   \n",
       "25%                         0.000000                 46.818974   \n",
       "50%                       149.000000                 86.700163   \n",
       "75%                      3507.000000                155.325644   \n",
       "max                     10127.000000               1871.571992   \n",
       "\n",
       "       solar_power_forecasts_std  predicted_spot_price  \n",
       "count               10581.000000           1846.000000  \n",
       "mean                   24.997384            140.256024  \n",
       "std                    43.083977             33.922669  \n",
       "min                     0.000000             42.420000  \n",
       "25%                     0.000000            119.405000  \n",
       "50%                     3.507229            140.040000  \n",
       "75%                    35.137019            160.765000  \n",
       "max                   745.261316            254.190000  "
      ]
     },
     "metadata": {},
     "output_type": "display_data"
    }
   ],
   "source": [
    "print(\"\\nStatistiques descriptives de X_train :\")\n",
    "display(X_train.describe())"
   ]
  },
  {
   "cell_type": "markdown",
   "id": "88d0ffa9",
   "metadata": {},
   "source": [
    "### Corrélation entre variables numériques (X_train + Y_train)\n"
   ]
  },
  {
   "cell_type": "code",
   "execution_count": 52,
   "id": "274ae3df",
   "metadata": {},
   "outputs": [
    {
     "data": {
      "image/png": "[encoded data removed]",
      "text/plain": [
       "<Figure size 1000x800 with 2 Axes>"
      ]
     },
     "metadata": {},
     "output_type": "display_data"
    }
   ],
   "source": [
    "data_numeric = pd.concat([X_train, Y_train], axis=1).select_dtypes(include=['number'])\n",
    "corr_matrix = data_numeric.corr()\n",
    "\n",
    "plt.figure(figsize=(10, 8))\n",
    "sns.heatmap(corr_matrix, annot=True, fmt=\".2f\", cmap='coolwarm')\n",
    "plt.title(\"Matrice de corrélation (features + cible)\")\n",
    "plt.show()\n"
   ]
  },
  {
   "cell_type": "markdown",
   "id": "e365bd85",
   "metadata": {},
   "source": [
    "Ensuite, on examine spécifiquement la distribution de la variable cible d’origine spot_id_delta, afin de voir par exemple si elle suit une loi normale ou si elle est centrée autour de zéro.\n",
    "\n",
    "### Distribution de la variable cible continue spot_id_delta\n"
   ]
  },
  {
   "cell_type": "code",
   "execution_count": 53,
   "id": "be670750",
   "metadata": {},
   "outputs": [
    {
     "data": {
      "image/png": "[encoded data removed]",
      "text/plain": [
       "<Figure size 600x400 with 1 Axes>"
      ]
     },
     "metadata": {},
     "output_type": "display_data"
    }
   ],
   "source": [
    "plt.figure(figsize=(6,4))\n",
    "sns.histplot(Y_train['spot_id_delta'], bins=50, kde=True)\n",
    "plt.title(\"Distribution de spot_id_delta dans Y_train\")\n",
    "plt.xlabel(\"spot_id_delta\")\n",
    "plt.ylabel(\"Fréquence\")\n",
    "plt.show()"
   ]
  },
  {
   "cell_type": "markdown",
   "id": "0216ef37",
   "metadata": {},
   "source": [
    "## 3. Transformation de la cible en variable binaire\n",
    "\n",
    "La variable cible spot_id_delta est transformée en variable binaire spot_id_delta_binary : elle vaut 1 si spot_id_delta est positif (supérieur à 0), et 0 sinon (négatif ou zéro). On ajoute cette colonne à Y_train et vérifie l’équilibre des classes."
   ]
  },
  {
   "cell_type": "markdown",
   "id": "270a89c3",
   "metadata": {},
   "source": [
    "### Création d'une cible binaire : 1 si spot_id_delta > 0, 0 sinon\n"
   ]
  },
  {
   "cell_type": "code",
   "execution_count": 54,
   "id": "756e6267",
   "metadata": {},
   "outputs": [],
   "source": [
    "Y_train['spot_id_delta_binary'] = (Y_train['spot_id_delta'] > 0).astype(int)\n"
   ]
  },
  {
   "cell_type": "markdown",
   "id": "b29a30cb",
   "metadata": {},
   "source": [
    "### Vérification de la répartition des classes\n"
   ]
  },
  {
   "cell_type": "code",
   "execution_count": 55,
   "id": "76b9a2ed",
   "metadata": {},
   "outputs": [
    {
     "name": "stdout",
     "output_type": "stream",
     "text": [
      "Répartition des classes (0 vs 1) :\n",
      "spot_id_delta_binary\n",
      "1    5320\n",
      "0    5285\n",
      "Name: count, dtype: int64\n"
     ]
    },
    {
     "data": {
      "image/png": "[encoded data removed]",
      "text/plain": [
       "<Figure size 400x400 with 1 Axes>"
      ]
     },
     "metadata": {},
     "output_type": "display_data"
    }
   ],
   "source": [
    "counts = Y_train['spot_id_delta_binary'].value_counts()\n",
    "print(\"Répartition des classes (0 vs 1) :\")\n",
    "print(counts)\n",
    "plt.figure(figsize=(4,4))\n",
    "sns.countplot(x='spot_id_delta_binary', data=Y_train)\n",
    "plt.title(\"Nombre de cas 0 et 1 dans la cible binaire\")\n",
    "plt.xlabel(\"spot_id_delta_binary\")\n",
    "plt.ylabel(\"Nombre d'exemples\")\n",
    "plt.show()"
   ]
  },
  {
   "cell_type": "markdown",
   "id": "e5b06def",
   "metadata": {},
   "source": [
    "\n",
    "Cette transformation fait de notre problème un problème de classification binaire. On constate ainsi la proportion d’exemples positifs et négatifs.\n",
    "\n",
    "## 4. Prétraitement des données\n",
    "\n",
    "### 4.1 Encodage de la date\n",
    "\n",
    "La colonne DELIVERY_START contient une date/heure. Nous convertissons cette colonne au format datetime et en extrayons des caractéristiques utiles, comme l’heure de la journée (hour) et le jour de la semaine (dayofweek). Nous pourrons ainsi intégrer l’effet temporel dans le modèle. Après extraction, on peut supprimer la colonne originale DELIVERY_START si elle n’apporte pas d’information supplémentaire."
   ]
  },
  {
   "cell_type": "code",
   "execution_count": 60,
   "id": "2bf69de9",
   "metadata": {},
   "outputs": [],
   "source": [
    "def encoder_dates(df):\n",
    "    \"\"\"\n",
    "    Convertit la colonne DELIVERY_START en datetime UTC et en extrait les composantes heure et jour de la semaine.\n",
    "    La colonne originale DELIVERY_START est ensuite supprimée.\n",
    "    \"\"\"\n",
    "    # Conversion en datetime (timezone-aware vers UTC standard)\n",
    "    df['DELIVERY_START'] = pd.to_datetime(df['DELIVERY_START'], utc=True)\n",
    "    \n",
    "    # Extraction de l'heure et du jour de la semaine (UTC)\n",
    "    df['hour'] = df['DELIVERY_START'].dt.hour\n",
    "    df['weekday'] = df['DELIVERY_START'].dt.weekday  # lundi = 0\n",
    "\n",
    "    # Suppression de la colonne initiale\n",
    "    df = df.drop(columns=['DELIVERY_START'])\n",
    "\n",
    "    return df\n"
   ]
  },
  {
   "cell_type": "markdown",
   "id": "ea9869b4",
   "metadata": {},
   "source": [
    "#### Application de l'encodage sur X_train et X_test\n"
   ]
  },
  {
   "cell_type": "code",
   "execution_count": null,
   "id": "29ea3ae5",
   "metadata": {},
   "outputs": [
    {
     "name": "stdout",
     "output_type": "stream",
     "text": [
      "Colonnes X_train après encodage des dates : ['load_forecast', 'coal_power_available', 'gas_power_available', 'nucelear_power_available', 'wind_power_forecasts_average', 'solar_power_forecasts_average', 'wind_power_forecasts_std', 'solar_power_forecasts_std', 'predicted_spot_price', 'hour', 'weekday']\n"
     ]
    }
   ],
   "source": [
    "X_train = encoder_dates(X_train)\n",
    "X_test = encoder_dates(X_test)\n",
    "print(\"Colonnes X_train après encodage des dates :\", X_train.columns.tolist())"
   ]
  },
  {
   "cell_type": "markdown",
   "id": "d39451c5",
   "metadata": {},
   "source": [
    "### 4.2 Autres prétraitements éventuels\n",
    "\n",
    "On vérifie à nouveau la présence éventuelle de valeurs manquantes après encodage et on les traite (par exemple, on pourrait les imputer ou simplement retirer les lignes manquantes). Pour ce notebook, nous supposons qu’il n’y a pas de valeurs manquantes critiques après cette étape, ou bien qu’elles sont peu nombreuses. Si nécessaire, on pourrait imputer des valeurs ou supprimer des colonnes entières.\n",
    "\n",
    "#### Vérification des valeurs manquantes après prétraitement\n"
   ]
  },
  {
   "cell_type": "code",
   "execution_count": 62,
   "id": "c0fb46ba",
   "metadata": {},
   "outputs": [
    {
     "name": "stdout",
     "output_type": "stream",
     "text": [
      "Nombre total de valeurs manquantes dans X_train (après prétraitement) : 10145\n",
      "Nombre total de valeurs manquantes dans X_test (après prétraitement) : 1584\n"
     ]
    }
   ],
   "source": [
    "missing_train = X_train.isnull().sum().sum()\n",
    "missing_test = X_test.isnull().sum().sum()\n",
    "print(f\"Nombre total de valeurs manquantes dans X_train (après prétraitement) : {missing_train}\")\n",
    "print(f\"Nombre total de valeurs manquantes dans X_test (après prétraitement) : {missing_test}\")"
   ]
  },
  {
   "cell_type": "markdown",
   "id": "fc60dc6d",
   "metadata": {},
   "source": [
    "Si on trouvait des valeurs manquantes importantes, on les traiterait ici, par exemple avec :\n",
    "\n"
   ]
  },
  {
   "cell_type": "code",
   "execution_count": 63,
   "id": "b0e015e7",
   "metadata": {},
   "outputs": [],
   "source": [
    "# Exemple : imputation par la médiane pour les colonnes numériques (non exécuté si pas de NaN)\n",
    "\n",
    "# X_train.fillna(X_train.median(), inplace=True)\n",
    "# X_test.fillna(X_train.median(), inplace=True)  # on utilise la médiane du train"
   ]
  },
  {
   "cell_type": "markdown",
   "id": "573c634d",
   "metadata": {},
   "source": [
    "### 4.3 Séparation en jeu d’entraînement et de validation\n",
    "\n",
    "Nous séparons ensuite le jeu X_train prétraité et la cible binaire Y_train['spot_id_delta_binary'] en un sous-jeu d’entraînement (X_train_sub, y_train_sub) et un sous-jeu de validation (X_val, y_val). Cela nous permettra d’évaluer le modèle sur des données non vues pendant l’entraînement. Ici, on utilise par exemple 80% pour l’entraînement et 20% pour la validation."
   ]
  },
  {
   "cell_type": "markdown",
   "id": "e970f779",
   "metadata": {},
   "source": [
    "#### Séparation des données en train/validation\n"
   ]
  },
  {
   "cell_type": "code",
   "execution_count": 64,
   "id": "5d795026",
   "metadata": {},
   "outputs": [
    {
     "name": "stdout",
     "output_type": "stream",
     "text": [
      "Forme de X_train_sub : (8484, 11)\n",
      "Forme de X_val : (2121, 11)\n",
      "Forme de y_train_sub : (8484,)\n",
      "Forme de y_val : (2121,)\n"
     ]
    }
   ],
   "source": [
    "X_train_sub, X_val, y_train_sub, y_val = train_test_split(\n",
    "    X_train, Y_train['spot_id_delta_binary'], test_size=0.2, random_state=42\n",
    ")\n",
    "\n",
    "print(\"Forme de X_train_sub :\", X_train_sub.shape)\n",
    "print(\"Forme de X_val :\", X_val.shape)\n",
    "print(\"Forme de y_train_sub :\", y_train_sub.shape)\n",
    "print(\"Forme de y_val :\", y_val.shape)"
   ]
  },
  {
   "cell_type": "markdown",
   "id": "805c6f93",
   "metadata": {},
   "source": [
    "## 5. Entraînement du modèle de classification (XGBoost)\n",
    "\n",
    "Nous entraînons un modèle de XGBoost pour la classification binaire. XGBoost est bien adapté aux données tabulaires et gère les interactions entre les variables. On crée un classifieur XGBClassifier de base et on l’ajuste sur nos données d’entraînement. On peut spécifier random_state pour la reproductibilité et éventuellement régler d’autres hyperparamètres (nombre d’arbres, profondeur, etc.), mais nous prenons les valeurs par défaut pour cette démonstration.\n",
    "\n",
    "#### Création et entraînement du classifieur XGBoost\n"
   ]
  },
  {
   "cell_type": "code",
   "execution_count": 65,
   "id": "4cc92ce1",
   "metadata": {},
   "outputs": [
    {
     "name": "stderr",
     "output_type": "stream",
     "text": [
      "c:\\Users\\julie\\OneDrive - CentraleSupelec\\casablanca\\COURS\\ML\\PROJET LIL\\.venv\\Lib\\site-packages\\xgboost\\training.py:183: UserWarning: [17:56:55] WARNING: C:\\actions-runner\\_work\\xgboost\\xgboost\\src\\learner.cc:738: \n",
      "Parameters: { \"use_label_encoder\" } are not used.\n",
      "\n",
      "  bst.update(dtrain, iteration=i, fobj=obj)\n"
     ]
    },
    {
     "data": {
      "text/html": [
       "<style>#sk-container-id-1 {\n",
       "  /* Definition of color scheme common for light and dark mode */\n",
       "  --sklearn-color-text: #000;\n",
       "  --sklearn-color-text-muted: #666;\n",
       "  --sklearn-color-line: gray;\n",
       "  /* Definition of color scheme for unfitted estimators */\n",
       "  --sklearn-color-unfitted-level-0: #fff5e6;\n",
       "  --sklearn-color-unfitted-level-1: #f6e4d2;\n",
       "  --sklearn-color-unfitted-level-2: #ffe0b3;\n",
       "  --sklearn-color-unfitted-level-3: chocolate;\n",
       "  /* Definition of color scheme for fitted estimators */\n",
       "  --sklearn-color-fitted-level-0: #f0f8ff;\n",
       "  --sklearn-color-fitted-level-1: #d4ebff;\n",
       "  --sklearn-color-fitted-level-2: #b3dbfd;\n",
       "  --sklearn-color-fitted-level-3: cornflowerblue;\n",
       "\n",
       "  /* Specific color for light theme */\n",
       "  --sklearn-color-text-on-default-background: var(--sg-text-color, var(--theme-code-foreground, var(--jp-content-font-color1, black)));\n",
       "  --sklearn-color-background: var(--sg-background-color, var(--theme-background, var(--jp-layout-color0, white)));\n",
       "  --sklearn-color-border-box: var(--sg-text-color, var(--theme-code-foreground, var(--jp-content-font-color1, black)));\n",
       "  --sklearn-color-icon: #696969;\n",
       "\n",
       "  @media (prefers-color-scheme: dark) {\n",
       "    /* Redefinition of color scheme for dark theme */\n",
       "    --sklearn-color-text-on-default-background: var(--sg-text-color, var(--theme-code-foreground, var(--jp-content-font-color1, white)));\n",
       "    --sklearn-color-background: var(--sg-background-color, var(--theme-background, var(--jp-layout-color0, #111)));\n",
       "    --sklearn-color-border-box: var(--sg-text-color, var(--theme-code-foreground, var(--jp-content-font-color1, white)));\n",
       "    --sklearn-color-icon: #878787;\n",
       "  }\n",
       "}\n",
       "\n",
       "#sk-container-id-1 {\n",
       "  color: var(--sklearn-color-text);\n",
       "}\n",
       "\n",
       "#sk-container-id-1 pre {\n",
       "  padding: 0;\n",
       "}\n",
       "\n",
       "#sk-container-id-1 input.sk-hidden--visually {\n",
       "  border: 0;\n",
       "  clip: rect(1px 1px 1px 1px);\n",
       "  clip: rect(1px, 1px, 1px, 1px);\n",
       "  height: 1px;\n",
       "  margin: -1px;\n",
       "  overflow: hidden;\n",
       "  padding: 0;\n",
       "  position: absolute;\n",
       "  width: 1px;\n",
       "}\n",
       "\n",
       "#sk-container-id-1 div.sk-dashed-wrapped {\n",
       "  border: 1px dashed var(--sklearn-color-line);\n",
       "  margin: 0 0.4em 0.5em 0.4em;\n",
       "  box-sizing: border-box;\n",
       "  padding-bottom: 0.4em;\n",
       "  background-color: var(--sklearn-color-background);\n",
       "}\n",
       "\n",
       "#sk-container-id-1 div.sk-container {\n",
       "  /* jupyter's `normalize.less` sets `[hidden] { display: none; }`\n",
       "     but bootstrap.min.css set `[hidden] { display: none !important; }`\n",
       "     so we also need the `!important` here to be able to override the\n",
       "     default hidden behavior on the sphinx rendered scikit-learn.org.\n",
       "     See: https://github.com/scikit-learn/scikit-learn/issues/21755 */\n",
       "  display: inline-block !important;\n",
       "  position: relative;\n",
       "}\n",
       "\n",
       "#sk-container-id-1 div.sk-text-repr-fallback {\n",
       "  display: none;\n",
       "}\n",
       "\n",
       "div.sk-parallel-item,\n",
       "div.sk-serial,\n",
       "div.sk-item {\n",
       "  /* draw centered vertical line to link estimators */\n",
       "  background-image: linear-gradient(var(--sklearn-color-text-on-default-background), var(--sklearn-color-text-on-default-background));\n",
       "  background-size: 2px 100%;\n",
       "  background-repeat: no-repeat;\n",
       "  background-position: center center;\n",
       "}\n",
       "\n",
       "/* Parallel-specific style estimator block */\n",
       "\n",
       "#sk-container-id-1 div.sk-parallel-item::after {\n",
       "  content: \"\";\n",
       "  width: 100%;\n",
       "  border-bottom: 2px solid var(--sklearn-color-text-on-default-background);\n",
       "  flex-grow: 1;\n",
       "}\n",
       "\n",
       "#sk-container-id-1 div.sk-parallel {\n",
       "  display: flex;\n",
       "  align-items: stretch;\n",
       "  justify-content: center;\n",
       "  background-color: var(--sklearn-color-background);\n",
       "  position: relative;\n",
       "}\n",
       "\n",
       "#sk-container-id-1 div.sk-parallel-item {\n",
       "  display: flex;\n",
       "  flex-direction: column;\n",
       "}\n",
       "\n",
       "#sk-container-id-1 div.sk-parallel-item:first-child::after {\n",
       "  align-self: flex-end;\n",
       "  width: 50%;\n",
       "}\n",
       "\n",
       "#sk-container-id-1 div.sk-parallel-item:last-child::after {\n",
       "  align-self: flex-start;\n",
       "  width: 50%;\n",
       "}\n",
       "\n",
       "#sk-container-id-1 div.sk-parallel-item:only-child::after {\n",
       "  width: 0;\n",
       "}\n",
       "\n",
       "/* Serial-specific style estimator block */\n",
       "\n",
       "#sk-container-id-1 div.sk-serial {\n",
       "  display: flex;\n",
       "  flex-direction: column;\n",
       "  align-items: center;\n",
       "  background-color: var(--sklearn-color-background);\n",
       "  padding-right: 1em;\n",
       "  padding-left: 1em;\n",
       "}\n",
       "\n",
       "\n",
       "/* Toggleable style: style used for estimator/Pipeline/ColumnTransformer box that is\n",
       "clickable and can be expanded/collapsed.\n",
       "- Pipeline and ColumnTransformer use this feature and define the default style\n",
       "- Estimators will overwrite some part of the style using the `sk-estimator` class\n",
       "*/\n",
       "\n",
       "/* Pipeline and ColumnTransformer style (default) */\n",
       "\n",
       "#sk-container-id-1 div.sk-toggleable {\n",
       "  /* Default theme specific background. It is overwritten whether we have a\n",
       "  specific estimator or a Pipeline/ColumnTransformer */\n",
       "  background-color: var(--sklearn-color-background);\n",
       "}\n",
       "\n",
       "/* Toggleable label */\n",
       "#sk-container-id-1 label.sk-toggleable__label {\n",
       "  cursor: pointer;\n",
       "  display: flex;\n",
       "  width: 100%;\n",
       "  margin-bottom: 0;\n",
       "  padding: 0.5em;\n",
       "  box-sizing: border-box;\n",
       "  text-align: center;\n",
       "  align-items: start;\n",
       "  justify-content: space-between;\n",
       "  gap: 0.5em;\n",
       "}\n",
       "\n",
       "#sk-container-id-1 label.sk-toggleable__label .caption {\n",
       "  font-size: 0.6rem;\n",
       "  font-weight: lighter;\n",
       "  color: var(--sklearn-color-text-muted);\n",
       "}\n",
       "\n",
       "#sk-container-id-1 label.sk-toggleable__label-arrow:before {\n",
       "  /* Arrow on the left of the label */\n",
       "  content: \"▸\";\n",
       "  float: left;\n",
       "  margin-right: 0.25em;\n",
       "  color: var(--sklearn-color-icon);\n",
       "}\n",
       "\n",
       "#sk-container-id-1 label.sk-toggleable__label-arrow:hover:before {\n",
       "  color: var(--sklearn-color-text);\n",
       "}\n",
       "\n",
       "/* Toggleable content - dropdown */\n",
       "\n",
       "#sk-container-id-1 div.sk-toggleable__content {\n",
       "  max-height: 0;\n",
       "  max-width: 0;\n",
       "  overflow: hidden;\n",
       "  text-align: left;\n",
       "  /* unfitted */\n",
       "  background-color: var(--sklearn-color-unfitted-level-0);\n",
       "}\n",
       "\n",
       "#sk-container-id-1 div.sk-toggleable__content.fitted {\n",
       "  /* fitted */\n",
       "  background-color: var(--sklearn-color-fitted-level-0);\n",
       "}\n",
       "\n",
       "#sk-container-id-1 div.sk-toggleable__content pre {\n",
       "  margin: 0.2em;\n",
       "  border-radius: 0.25em;\n",
       "  color: var(--sklearn-color-text);\n",
       "  /* unfitted */\n",
       "  background-color: var(--sklearn-color-unfitted-level-0);\n",
       "}\n",
       "\n",
       "#sk-container-id-1 div.sk-toggleable__content.fitted pre {\n",
       "  /* unfitted */\n",
       "  background-color: var(--sklearn-color-fitted-level-0);\n",
       "}\n",
       "\n",
       "#sk-container-id-1 input.sk-toggleable__control:checked~div.sk-toggleable__content {\n",
       "  /* Expand drop-down */\n",
       "  max-height: 200px;\n",
       "  max-width: 100%;\n",
       "  overflow: auto;\n",
       "}\n",
       "\n",
       "#sk-container-id-1 input.sk-toggleable__control:checked~label.sk-toggleable__label-arrow:before {\n",
       "  content: \"▾\";\n",
       "}\n",
       "\n",
       "/* Pipeline/ColumnTransformer-specific style */\n",
       "\n",
       "#sk-container-id-1 div.sk-label input.sk-toggleable__control:checked~label.sk-toggleable__label {\n",
       "  color: var(--sklearn-color-text);\n",
       "  background-color: var(--sklearn-color-unfitted-level-2);\n",
       "}\n",
       "\n",
       "#sk-container-id-1 div.sk-label.fitted input.sk-toggleable__control:checked~label.sk-toggleable__label {\n",
       "  background-color: var(--sklearn-color-fitted-level-2);\n",
       "}\n",
       "\n",
       "/* Estimator-specific style */\n",
       "\n",
       "/* Colorize estimator box */\n",
       "#sk-container-id-1 div.sk-estimator input.sk-toggleable__control:checked~label.sk-toggleable__label {\n",
       "  /* unfitted */\n",
       "  background-color: var(--sklearn-color-unfitted-level-2);\n",
       "}\n",
       "\n",
       "#sk-container-id-1 div.sk-estimator.fitted input.sk-toggleable__control:checked~label.sk-toggleable__label {\n",
       "  /* fitted */\n",
       "  background-color: var(--sklearn-color-fitted-level-2);\n",
       "}\n",
       "\n",
       "#sk-container-id-1 div.sk-label label.sk-toggleable__label,\n",
       "#sk-container-id-1 div.sk-label label {\n",
       "  /* The background is the default theme color */\n",
       "  color: var(--sklearn-color-text-on-default-background);\n",
       "}\n",
       "\n",
       "/* On hover, darken the color of the background */\n",
       "#sk-container-id-1 div.sk-label:hover label.sk-toggleable__label {\n",
       "  color: var(--sklearn-color-text);\n",
       "  background-color: var(--sklearn-color-unfitted-level-2);\n",
       "}\n",
       "\n",
       "/* Label box, darken color on hover, fitted */\n",
       "#sk-container-id-1 div.sk-label.fitted:hover label.sk-toggleable__label.fitted {\n",
       "  color: var(--sklearn-color-text);\n",
       "  background-color: var(--sklearn-color-fitted-level-2);\n",
       "}\n",
       "\n",
       "/* Estimator label */\n",
       "\n",
       "#sk-container-id-1 div.sk-label label {\n",
       "  font-family: monospace;\n",
       "  font-weight: bold;\n",
       "  display: inline-block;\n",
       "  line-height: 1.2em;\n",
       "}\n",
       "\n",
       "#sk-container-id-1 div.sk-label-container {\n",
       "  text-align: center;\n",
       "}\n",
       "\n",
       "/* Estimator-specific */\n",
       "#sk-container-id-1 div.sk-estimator {\n",
       "  font-family: monospace;\n",
       "  border: 1px dotted var(--sklearn-color-border-box);\n",
       "  border-radius: 0.25em;\n",
       "  box-sizing: border-box;\n",
       "  margin-bottom: 0.5em;\n",
       "  /* unfitted */\n",
       "  background-color: var(--sklearn-color-unfitted-level-0);\n",
       "}\n",
       "\n",
       "#sk-container-id-1 div.sk-estimator.fitted {\n",
       "  /* fitted */\n",
       "  background-color: var(--sklearn-color-fitted-level-0);\n",
       "}\n",
       "\n",
       "/* on hover */\n",
       "#sk-container-id-1 div.sk-estimator:hover {\n",
       "  /* unfitted */\n",
       "  background-color: var(--sklearn-color-unfitted-level-2);\n",
       "}\n",
       "\n",
       "#sk-container-id-1 div.sk-estimator.fitted:hover {\n",
       "  /* fitted */\n",
       "  background-color: var(--sklearn-color-fitted-level-2);\n",
       "}\n",
       "\n",
       "/* Specification for estimator info (e.g. \"i\" and \"?\") */\n",
       "\n",
       "/* Common style for \"i\" and \"?\" */\n",
       "\n",
       ".sk-estimator-doc-link,\n",
       "a:link.sk-estimator-doc-link,\n",
       "a:visited.sk-estimator-doc-link {\n",
       "  float: right;\n",
       "  font-size: smaller;\n",
       "  line-height: 1em;\n",
       "  font-family: monospace;\n",
       "  background-color: var(--sklearn-color-background);\n",
       "  border-radius: 1em;\n",
       "  height: 1em;\n",
       "  width: 1em;\n",
       "  text-decoration: none !important;\n",
       "  margin-left: 0.5em;\n",
       "  text-align: center;\n",
       "  /* unfitted */\n",
       "  border: var(--sklearn-color-unfitted-level-1) 1pt solid;\n",
       "  color: var(--sklearn-color-unfitted-level-1);\n",
       "}\n",
       "\n",
       ".sk-estimator-doc-link.fitted,\n",
       "a:link.sk-estimator-doc-link.fitted,\n",
       "a:visited.sk-estimator-doc-link.fitted {\n",
       "  /* fitted */\n",
       "  border: var(--sklearn-color-fitted-level-1) 1pt solid;\n",
       "  color: var(--sklearn-color-fitted-level-1);\n",
       "}\n",
       "\n",
       "/* On hover */\n",
       "div.sk-estimator:hover .sk-estimator-doc-link:hover,\n",
       ".sk-estimator-doc-link:hover,\n",
       "div.sk-label-container:hover .sk-estimator-doc-link:hover,\n",
       ".sk-estimator-doc-link:hover {\n",
       "  /* unfitted */\n",
       "  background-color: var(--sklearn-color-unfitted-level-3);\n",
       "  color: var(--sklearn-color-background);\n",
       "  text-decoration: none;\n",
       "}\n",
       "\n",
       "div.sk-estimator.fitted:hover .sk-estimator-doc-link.fitted:hover,\n",
       ".sk-estimator-doc-link.fitted:hover,\n",
       "div.sk-label-container:hover .sk-estimator-doc-link.fitted:hover,\n",
       ".sk-estimator-doc-link.fitted:hover {\n",
       "  /* fitted */\n",
       "  background-color: var(--sklearn-color-fitted-level-3);\n",
       "  color: var(--sklearn-color-background);\n",
       "  text-decoration: none;\n",
       "}\n",
       "\n",
       "/* Span, style for the box shown on hovering the info icon */\n",
       ".sk-estimator-doc-link span {\n",
       "  display: none;\n",
       "  z-index: 9999;\n",
       "  position: relative;\n",
       "  font-weight: normal;\n",
       "  right: .2ex;\n",
       "  padding: .5ex;\n",
       "  margin: .5ex;\n",
       "  width: min-content;\n",
       "  min-width: 20ex;\n",
       "  max-width: 50ex;\n",
       "  color: var(--sklearn-color-text);\n",
       "  box-shadow: 2pt 2pt 4pt #999;\n",
       "  /* unfitted */\n",
       "  background: var(--sklearn-color-unfitted-level-0);\n",
       "  border: .5pt solid var(--sklearn-color-unfitted-level-3);\n",
       "}\n",
       "\n",
       ".sk-estimator-doc-link.fitted span {\n",
       "  /* fitted */\n",
       "  background: var(--sklearn-color-fitted-level-0);\n",
       "  border: var(--sklearn-color-fitted-level-3);\n",
       "}\n",
       "\n",
       ".sk-estimator-doc-link:hover span {\n",
       "  display: block;\n",
       "}\n",
       "\n",
       "/* \"?\"-specific style due to the `<a>` HTML tag */\n",
       "\n",
       "#sk-container-id-1 a.estimator_doc_link {\n",
       "  float: right;\n",
       "  font-size: 1rem;\n",
       "  line-height: 1em;\n",
       "  font-family: monospace;\n",
       "  background-color: var(--sklearn-color-background);\n",
       "  border-radius: 1rem;\n",
       "  height: 1rem;\n",
       "  width: 1rem;\n",
       "  text-decoration: none;\n",
       "  /* unfitted */\n",
       "  color: var(--sklearn-color-unfitted-level-1);\n",
       "  border: var(--sklearn-color-unfitted-level-1) 1pt solid;\n",
       "}\n",
       "\n",
       "#sk-container-id-1 a.estimator_doc_link.fitted {\n",
       "  /* fitted */\n",
       "  border: var(--sklearn-color-fitted-level-1) 1pt solid;\n",
       "  color: var(--sklearn-color-fitted-level-1);\n",
       "}\n",
       "\n",
       "/* On hover */\n",
       "#sk-container-id-1 a.estimator_doc_link:hover {\n",
       "  /* unfitted */\n",
       "  background-color: var(--sklearn-color-unfitted-level-3);\n",
       "  color: var(--sklearn-color-background);\n",
       "  text-decoration: none;\n",
       "}\n",
       "\n",
       "#sk-container-id-1 a.estimator_doc_link.fitted:hover {\n",
       "  /* fitted */\n",
       "  background-color: var(--sklearn-color-fitted-level-3);\n",
       "}\n",
       "</style><div id=\"sk-container-id-1\" class=\"sk-top-container\"><div class=\"sk-text-repr-fallback\"><pre>XGBClassifier(base_score=None, booster=None, callbacks=None,\n",
       "              colsample_bylevel=None, colsample_bynode=None,\n",
       "              colsample_bytree=None, device=None, early_stopping_rounds=None,\n",
       "              enable_categorical=False, eval_metric=&#x27;logloss&#x27;,\n",
       "              feature_types=None, feature_weights=None, gamma=None,\n",
       "              grow_policy=None, importance_type=None,\n",
       "              interaction_constraints=None, learning_rate=None, max_bin=None,\n",
       "              max_cat_threshold=None, max_cat_to_onehot=None,\n",
       "              max_delta_step=None, max_depth=None, max_leaves=None,\n",
       "              min_child_weight=None, missing=nan, monotone_constraints=None,\n",
       "              multi_strategy=None, n_estimators=None, n_jobs=None,\n",
       "              num_parallel_tree=None, ...)</pre><b>In a Jupyter environment, please rerun this cell to show the HTML representation or trust the notebook. <br />On GitHub, the HTML representation is unable to render, please try loading this page with nbviewer.org.</b></div><div class=\"sk-container\" hidden><div class=\"sk-item\"><div class=\"sk-estimator fitted sk-toggleable\"><input class=\"sk-toggleable__control sk-hidden--visually\" id=\"sk-estimator-id-1\" type=\"checkbox\" checked><label for=\"sk-estimator-id-1\" class=\"sk-toggleable__label fitted sk-toggleable__label-arrow\"><div><div>XGBClassifier</div></div><div><a class=\"sk-estimator-doc-link fitted\" rel=\"noreferrer\" target=\"_blank\" href=\"https://xgboost.readthedocs.io/en/release_3.0.0/python/python_api.html#xgboost.XGBClassifier\">?<span>Documentation for XGBClassifier</span></a><span class=\"sk-estimator-doc-link fitted\">i<span>Fitted</span></span></div></label><div class=\"sk-toggleable__content fitted\"><pre>XGBClassifier(base_score=None, booster=None, callbacks=None,\n",
       "              colsample_bylevel=None, colsample_bynode=None,\n",
       "              colsample_bytree=None, device=None, early_stopping_rounds=None,\n",
       "              enable_categorical=False, eval_metric=&#x27;logloss&#x27;,\n",
       "              feature_types=None, feature_weights=None, gamma=None,\n",
       "              grow_policy=None, importance_type=None,\n",
       "              interaction_constraints=None, learning_rate=None, max_bin=None,\n",
       "              max_cat_threshold=None, max_cat_to_onehot=None,\n",
       "              max_delta_step=None, max_depth=None, max_leaves=None,\n",
       "              min_child_weight=None, missing=nan, monotone_constraints=None,\n",
       "              multi_strategy=None, n_estimators=None, n_jobs=None,\n",
       "              num_parallel_tree=None, ...)</pre></div> </div></div></div></div>"
      ],
      "text/plain": [
       "XGBClassifier(base_score=None, booster=None, callbacks=None,\n",
       "              colsample_bylevel=None, colsample_bynode=None,\n",
       "              colsample_bytree=None, device=None, early_stopping_rounds=None,\n",
       "              enable_categorical=False, eval_metric='logloss',\n",
       "              feature_types=None, feature_weights=None, gamma=None,\n",
       "              grow_policy=None, importance_type=None,\n",
       "              interaction_constraints=None, learning_rate=None, max_bin=None,\n",
       "              max_cat_threshold=None, max_cat_to_onehot=None,\n",
       "              max_delta_step=None, max_depth=None, max_leaves=None,\n",
       "              min_child_weight=None, missing=nan, monotone_constraints=None,\n",
       "              multi_strategy=None, n_estimators=None, n_jobs=None,\n",
       "              num_parallel_tree=None, ...)"
      ]
     },
     "execution_count": 65,
     "metadata": {},
     "output_type": "execute_result"
    }
   ],
   "source": [
    "xgb_clf = xgb.XGBClassifier(use_label_encoder=False, eval_metric='logloss', random_state=42)\n",
    "xgb_clf.fit(X_train_sub, y_train_sub)"
   ]
  },
  {
   "cell_type": "markdown",
   "id": "af34021b",
   "metadata": {},
   "source": [
    "#### Prédiction sur le jeu de validation\n"
   ]
  },
  {
   "cell_type": "code",
   "execution_count": 66,
   "id": "ae284a7d",
   "metadata": {},
   "outputs": [
    {
     "name": "stdout",
     "output_type": "stream",
     "text": [
      "Prédiction effectuée sur le jeu de validation.\n"
     ]
    }
   ],
   "source": [
    "y_pred_val = xgb_clf.predict(X_val)\n",
    "print(\"Prédiction effectuée sur le jeu de validation.\")"
   ]
  },
  {
   "cell_type": "markdown",
   "id": "c2d7bbfe",
   "metadata": {},
   "source": [
    "## 6. Évaluation avec la métrique Weighted Accuracy\n",
    "\n",
    "La métrique d’évaluation du challenge est la Weighted Accuracy. Nous définissons une fonction personnalisée weighted_accuracy qui calcule ce score. Par convention, on peut pondérer davantage la classe positive (valeur 1) pour compenser un éventuel déséquilibre. Par exemple, on utilise ici un poids w=5 sur la classe positive :\n",
    "$$\n",
    "\\text{Weighted Accuracy} = \\frac{\\text{WTP} + \\text{WTN}}{\\text{WTP} + \\text{WTN} + \\text{WFP} + \\text{WFN}}\n",
    "$$\n",
    "\n",
    "avec :\n",
    "- WTP = somme des $|y_i|$ pour les vrais positifs,\n",
    "- WTN = somme des $|y_i|$ pour les vrais négatifs,\n",
    "- WFP = somme des $|y_i|$ pour les faux positifs,\n",
    "- WFN = somme des $|y_i|$ pour les faux négatifs. est vraie et 0 sinon,\n",
    "\n"
   ]
  },
  {
   "cell_type": "code",
   "execution_count": 67,
   "id": "e3a23689",
   "metadata": {},
   "outputs": [],
   "source": [
    "def weighted_accuracy(y_true, y_pred, weight=5):\n",
    "    \"\"\"\n",
    "    Calcule la Weighted Accuracy :\n",
    "    (w * TP + TN) / (w * (TP + FN) + (TN + FP))\n",
    "    \"\"\"\n",
    "    tn, fp, fn, tp = confusion_matrix(y_true, y_pred).ravel()\n",
    "    wa = (weight * tp + tn) / (weight * (tp + fn) + (tn + fp))\n",
    "    return wa"
   ]
  },
  {
   "cell_type": "markdown",
   "id": "09a496e4",
   "metadata": {},
   "source": [
    "#### Calcul du score sur la validation\n"
   ]
  },
  {
   "cell_type": "code",
   "execution_count": 68,
   "id": "b78b69db",
   "metadata": {},
   "outputs": [
    {
     "name": "stdout",
     "output_type": "stream",
     "text": [
      "Weighted Accuracy sur le jeu de validation : 0.7274\n"
     ]
    }
   ],
   "source": [
    "wa_score = weighted_accuracy(y_val, y_pred_val, weight=5)\n",
    "print(f\"Weighted Accuracy sur le jeu de validation : {wa_score:.4f}\")"
   ]
  },
  {
   "cell_type": "markdown",
   "id": "ad2ace76",
   "metadata": {},
   "source": [
    "On affiche également la matrice de confusion et d’autres métriques classiques pour comprendre les performances :\n"
   ]
  },
  {
   "cell_type": "markdown",
   "id": "3e3e7afe",
   "metadata": {},
   "source": [
    "#### Matrice de confusion\n"
   ]
  },
  {
   "cell_type": "code",
   "execution_count": 69,
   "id": "b4c8cecc",
   "metadata": {},
   "outputs": [
    {
     "name": "stdout",
     "output_type": "stream",
     "text": [
      "Matrice de confusion (validation) :\n",
      "TN=800, FP=241, FN=303, TP=777\n"
     ]
    }
   ],
   "source": [
    "from sklearn.metrics import classification_report, accuracy_score\n",
    "\n",
    "tn, fp, fn, tp = confusion_matrix(y_val, y_pred_val).ravel()\n",
    "print(\"Matrice de confusion (validation) :\")\n",
    "print(f\"TN={tn}, FP={fp}, FN={fn}, TP={tp}\")"
   ]
  },
  {
   "cell_type": "markdown",
   "id": "19de4d68",
   "metadata": {},
   "source": [
    "#### Rapport de classification standard\n"
   ]
  },
  {
   "cell_type": "code",
   "execution_count": 70,
   "id": "a870268f",
   "metadata": {},
   "outputs": [
    {
     "name": "stdout",
     "output_type": "stream",
     "text": [
      "\n",
      "Rapport de classification :\n",
      "              precision    recall  f1-score   support\n",
      "\n",
      "    Classe 0       0.73      0.77      0.75      1041\n",
      "    Classe 1       0.76      0.72      0.74      1080\n",
      "\n",
      "    accuracy                           0.74      2121\n",
      "   macro avg       0.74      0.74      0.74      2121\n",
      "weighted avg       0.74      0.74      0.74      2121\n",
      "\n",
      "Accuracy simple : 0.7435172088637435\n"
     ]
    }
   ],
   "source": [
    "print(\"\\nRapport de classification :\")\n",
    "print(classification_report(y_val, y_pred_val, target_names=['Classe 0', 'Classe 1']))\n",
    "print(\"Accuracy simple :\", accuracy_score(y_val, y_pred_val))"
   ]
  },
  {
   "cell_type": "markdown",
   "id": "1ac5a20b",
   "metadata": {},
   "source": [
    "## 7. Prédictions finales sur X_test\n",
    "\n",
    "Après évaluation satisfaisante, on applique le même prétraitement à X_test (encodage des dates déjà fait) et on utilise le modèle entraîné pour prédire la classe binaire sur les nouvelles données.\n",
    "\n",
    "#### Prédiction sur X_test (après prétraitement des dates)\n"
   ]
  },
  {
   "cell_type": "code",
   "execution_count": 71,
   "id": "6a5ae1ae",
   "metadata": {},
   "outputs": [
    {
     "name": "stdout",
     "output_type": "stream",
     "text": [
      "Prédictions finalisées sur X_test.\n"
     ]
    }
   ],
   "source": [
    "\n",
    "y_test_pred = xgb_clf.predict(X_test)\n",
    "print(\"Prédictions finalisées sur X_test.\")"
   ]
  },
  {
   "cell_type": "markdown",
   "id": "96db8594",
   "metadata": {},
   "source": [
    "## 8. Création du fichier de soumission\n",
    "\n",
    "Enfin, on prépare le fichier de soumission ma_submission.csv avec deux colonnes : Id et prediction. On utilise la colonne Id de X_test (ou l’index si aucune colonne Id n’est présente) et la prédiction binaire correspondante. On enregistre le fichier au format CSV sans index supplémentaire."
   ]
  },
  {
   "cell_type": "code",
   "execution_count": 72,
   "id": "ceee7a7d",
   "metadata": {},
   "outputs": [
    {
     "name": "stdout",
     "output_type": "stream",
     "text": [
      "Fichier de soumission 'ma_submission.csv' créé avec succès.\n"
     ]
    }
   ],
   "source": [
    "# Construction du DataFrame de soumission\n",
    "\n",
    "if 'Id' in X_test.columns:\n",
    "    submission = pd.DataFrame({\n",
    "        'Id': X_test['Id'],\n",
    "        'prediction': y_test_pred\n",
    "    })\n",
    "else:\n",
    "    submission = pd.DataFrame({\n",
    "        'Id': X_test.index,\n",
    "        'prediction': y_test_pred\n",
    "    })\n",
    "\n",
    "# Sauvegarde au format CSV\n",
    "submission.to_csv('ma_submission.csv', index=False)\n",
    "print(\"Fichier de soumission 'ma_submission.csv' créé avec succès.\")"
   ]
  },
  {
   "cell_type": "markdown",
   "id": "5834fc2a",
   "metadata": {},
   "source": [
    "\n",
    "Le fichier ma_submission.csv contient ainsi, pour chaque identifiant, la prédiction binaire (0 ou 1) correspondant à notre modèle.\n",
    "Ce notebook fournit un pipeline complet, depuis le chargement des données jusqu’à l’enregistrement des prédictions. Les commentaires et les explications détaillées facilitent la compréhension du flux de travail, et le code est structuré en sections claires pour être facilement reproductible dans un environnement Jupyter."
   ]
  }
 ],
 "metadata": {
  "kernelspec": {
   "display_name": ".venv",
   "language": "python",
   "name": "python3"
  },
  "language_info": {
   "codemirror_mode": {
    "name": "ipython",
    "version": 3
   },
   "file_extension": ".py",
   "mimetype": "text/x-python",
   "name": "python",
   "nbconvert_exporter": "python",
   "pygments_lexer": "ipython3",
   "version": "3.11.9"
  }
 },
 "nbformat": 4,
 "nbformat_minor": 5
}
